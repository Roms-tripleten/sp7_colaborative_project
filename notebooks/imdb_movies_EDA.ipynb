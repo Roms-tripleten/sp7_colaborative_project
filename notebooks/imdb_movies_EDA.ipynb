{
 "cells": [
  {
   "cell_type": "markdown",
   "metadata": {},
   "source": [
    "# Análisis exploratorio para imdb_movies\n",
    "## Análisis sugeridos:\n",
    "1. Distribución de calificaciones IMDB\n",
    "2. Comparación de recaudación por género\n",
    "3. Evolución del rating por año\n"
   ]
  },
  {
   "cell_type": "code",
   "execution_count": 3,
   "metadata": {},
   "outputs": [],
   "source": [
    "import pandas as pd\n",
    "import matplotlib.pyplot as plt\n",
    "import plotly.express as px\n"
   ]
  },
  {
   "cell_type": "code",
   "execution_count": null,
   "metadata": {},
   "outputs": [
    {
     "data": {
      "text/html": [
       "<div>\n",
       "<style scoped>\n",
       "    .dataframe tbody tr th:only-of-type {\n",
       "        vertical-align: middle;\n",
       "    }\n",
       "\n",
       "    .dataframe tbody tr th {\n",
       "        vertical-align: top;\n",
       "    }\n",
       "\n",
       "    .dataframe thead th {\n",
       "        text-align: right;\n",
       "    }\n",
       "</style>\n",
       "<table border=\"1\" class=\"dataframe\">\n",
       "  <thead>\n",
       "    <tr style=\"text-align: right;\">\n",
       "      <th></th>\n",
       "      <th>Poster_Link</th>\n",
       "      <th>Series_Title</th>\n",
       "      <th>Released_Year</th>\n",
       "      <th>Certificate</th>\n",
       "      <th>Runtime</th>\n",
       "      <th>Genre</th>\n",
       "      <th>IMDB_Rating</th>\n",
       "      <th>Overview</th>\n",
       "      <th>Meta_score</th>\n",
       "      <th>Director</th>\n",
       "      <th>Star1</th>\n",
       "      <th>Star2</th>\n",
       "      <th>Star3</th>\n",
       "      <th>Star4</th>\n",
       "      <th>No_of_Votes</th>\n",
       "      <th>Gross</th>\n",
       "    </tr>\n",
       "  </thead>\n",
       "  <tbody>\n",
       "    <tr>\n",
       "      <th>0</th>\n",
       "      <td>https://m.media-amazon.com/images/M/MV5BMDFkYT...</td>\n",
       "      <td>The Shawshank Redemption</td>\n",
       "      <td>1994</td>\n",
       "      <td>A</td>\n",
       "      <td>142 min</td>\n",
       "      <td>Drama</td>\n",
       "      <td>9.3</td>\n",
       "      <td>Two imprisoned men bond over a number of years...</td>\n",
       "      <td>80.0</td>\n",
       "      <td>Frank Darabont</td>\n",
       "      <td>Tim Robbins</td>\n",
       "      <td>Morgan Freeman</td>\n",
       "      <td>Bob Gunton</td>\n",
       "      <td>William Sadler</td>\n",
       "      <td>2343110</td>\n",
       "      <td>28,341,469</td>\n",
       "    </tr>\n",
       "    <tr>\n",
       "      <th>1</th>\n",
       "      <td>https://m.media-amazon.com/images/M/MV5BM2MyNj...</td>\n",
       "      <td>The Godfather</td>\n",
       "      <td>1972</td>\n",
       "      <td>A</td>\n",
       "      <td>175 min</td>\n",
       "      <td>Crime, Drama</td>\n",
       "      <td>9.2</td>\n",
       "      <td>An organized crime dynasty's aging patriarch t...</td>\n",
       "      <td>100.0</td>\n",
       "      <td>Francis Ford Coppola</td>\n",
       "      <td>Marlon Brando</td>\n",
       "      <td>Al Pacino</td>\n",
       "      <td>James Caan</td>\n",
       "      <td>Diane Keaton</td>\n",
       "      <td>1620367</td>\n",
       "      <td>134,966,411</td>\n",
       "    </tr>\n",
       "    <tr>\n",
       "      <th>2</th>\n",
       "      <td>https://m.media-amazon.com/images/M/MV5BMTMxNT...</td>\n",
       "      <td>The Dark Knight</td>\n",
       "      <td>2008</td>\n",
       "      <td>UA</td>\n",
       "      <td>152 min</td>\n",
       "      <td>Action, Crime, Drama</td>\n",
       "      <td>9.0</td>\n",
       "      <td>When the menace known as the Joker wreaks havo...</td>\n",
       "      <td>84.0</td>\n",
       "      <td>Christopher Nolan</td>\n",
       "      <td>Christian Bale</td>\n",
       "      <td>Heath Ledger</td>\n",
       "      <td>Aaron Eckhart</td>\n",
       "      <td>Michael Caine</td>\n",
       "      <td>2303232</td>\n",
       "      <td>534,858,444</td>\n",
       "    </tr>\n",
       "    <tr>\n",
       "      <th>3</th>\n",
       "      <td>https://m.media-amazon.com/images/M/MV5BMWMwMG...</td>\n",
       "      <td>The Godfather: Part II</td>\n",
       "      <td>1974</td>\n",
       "      <td>A</td>\n",
       "      <td>202 min</td>\n",
       "      <td>Crime, Drama</td>\n",
       "      <td>9.0</td>\n",
       "      <td>The early life and career of Vito Corleone in ...</td>\n",
       "      <td>90.0</td>\n",
       "      <td>Francis Ford Coppola</td>\n",
       "      <td>Al Pacino</td>\n",
       "      <td>Robert De Niro</td>\n",
       "      <td>Robert Duvall</td>\n",
       "      <td>Diane Keaton</td>\n",
       "      <td>1129952</td>\n",
       "      <td>57,300,000</td>\n",
       "    </tr>\n",
       "    <tr>\n",
       "      <th>4</th>\n",
       "      <td>https://m.media-amazon.com/images/M/MV5BMWU4N2...</td>\n",
       "      <td>12 Angry Men</td>\n",
       "      <td>1957</td>\n",
       "      <td>U</td>\n",
       "      <td>96 min</td>\n",
       "      <td>Crime, Drama</td>\n",
       "      <td>9.0</td>\n",
       "      <td>A jury holdout attempts to prevent a miscarria...</td>\n",
       "      <td>96.0</td>\n",
       "      <td>Sidney Lumet</td>\n",
       "      <td>Henry Fonda</td>\n",
       "      <td>Lee J. Cobb</td>\n",
       "      <td>Martin Balsam</td>\n",
       "      <td>John Fiedler</td>\n",
       "      <td>689845</td>\n",
       "      <td>4,360,000</td>\n",
       "    </tr>\n",
       "  </tbody>\n",
       "</table>\n",
       "</div>"
      ],
      "text/plain": [
       "                                         Poster_Link  \\\n",
       "0  https://m.media-amazon.com/images/M/MV5BMDFkYT...   \n",
       "1  https://m.media-amazon.com/images/M/MV5BM2MyNj...   \n",
       "2  https://m.media-amazon.com/images/M/MV5BMTMxNT...   \n",
       "3  https://m.media-amazon.com/images/M/MV5BMWMwMG...   \n",
       "4  https://m.media-amazon.com/images/M/MV5BMWU4N2...   \n",
       "\n",
       "               Series_Title Released_Year Certificate  Runtime  \\\n",
       "0  The Shawshank Redemption          1994           A  142 min   \n",
       "1             The Godfather          1972           A  175 min   \n",
       "2           The Dark Knight          2008          UA  152 min   \n",
       "3    The Godfather: Part II          1974           A  202 min   \n",
       "4              12 Angry Men          1957           U   96 min   \n",
       "\n",
       "                  Genre  IMDB_Rating  \\\n",
       "0                 Drama          9.3   \n",
       "1          Crime, Drama          9.2   \n",
       "2  Action, Crime, Drama          9.0   \n",
       "3          Crime, Drama          9.0   \n",
       "4          Crime, Drama          9.0   \n",
       "\n",
       "                                            Overview  Meta_score  \\\n",
       "0  Two imprisoned men bond over a number of years...        80.0   \n",
       "1  An organized crime dynasty's aging patriarch t...       100.0   \n",
       "2  When the menace known as the Joker wreaks havo...        84.0   \n",
       "3  The early life and career of Vito Corleone in ...        90.0   \n",
       "4  A jury holdout attempts to prevent a miscarria...        96.0   \n",
       "\n",
       "               Director           Star1           Star2          Star3  \\\n",
       "0        Frank Darabont     Tim Robbins  Morgan Freeman     Bob Gunton   \n",
       "1  Francis Ford Coppola   Marlon Brando       Al Pacino     James Caan   \n",
       "2     Christopher Nolan  Christian Bale    Heath Ledger  Aaron Eckhart   \n",
       "3  Francis Ford Coppola       Al Pacino  Robert De Niro  Robert Duvall   \n",
       "4          Sidney Lumet     Henry Fonda     Lee J. Cobb  Martin Balsam   \n",
       "\n",
       "            Star4  No_of_Votes        Gross  \n",
       "0  William Sadler      2343110   28,341,469  \n",
       "1    Diane Keaton      1620367  134,966,411  \n",
       "2   Michael Caine      2303232  534,858,444  \n",
       "3    Diane Keaton      1129952   57,300,000  \n",
       "4    John Fiedler       689845    4,360,000  "
      ]
     },
     "execution_count": 1,
     "metadata": {},
     "output_type": "execute_result"
    }
   ],
   "source": [
    "\n",
    "movies = pd.read_csv('../dataset/imdb_movies.csv')\n",
    "movies.head()"
   ]
  },
  {
   "cell_type": "code",
   "execution_count": 2,
   "metadata": {},
   "outputs": [
    {
     "name": "stdout",
     "output_type": "stream",
     "text": [
      "<class 'pandas.core.frame.DataFrame'>\n",
      "RangeIndex: 1000 entries, 0 to 999\n",
      "Data columns (total 16 columns):\n",
      " #   Column         Non-Null Count  Dtype  \n",
      "---  ------         --------------  -----  \n",
      " 0   Poster_Link    1000 non-null   object \n",
      " 1   Series_Title   1000 non-null   object \n",
      " 2   Released_Year  1000 non-null   object \n",
      " 3   Certificate    899 non-null    object \n",
      " 4   Runtime        1000 non-null   object \n",
      " 5   Genre          1000 non-null   object \n",
      " 6   IMDB_Rating    1000 non-null   float64\n",
      " 7   Overview       1000 non-null   object \n",
      " 8   Meta_score     843 non-null    float64\n",
      " 9   Director       1000 non-null   object \n",
      " 10  Star1          1000 non-null   object \n",
      " 11  Star2          1000 non-null   object \n",
      " 12  Star3          1000 non-null   object \n",
      " 13  Star4          1000 non-null   object \n",
      " 14  No_of_Votes    1000 non-null   int64  \n",
      " 15  Gross          831 non-null    object \n",
      "dtypes: float64(2), int64(1), object(13)\n",
      "memory usage: 125.1+ KB\n"
     ]
    }
   ],
   "source": [
    "movies.info()"
   ]
  },
  {
   "cell_type": "markdown",
   "metadata": {},
   "source": [
    "## Analisis exploratorio (ejemplos)"
   ]
  },
  {
   "cell_type": "code",
   "execution_count": 11,
   "metadata": {},
   "outputs": [
    {
     "data": {
      "text/html": [
       "<div>\n",
       "<style scoped>\n",
       "    .dataframe tbody tr th:only-of-type {\n",
       "        vertical-align: middle;\n",
       "    }\n",
       "\n",
       "    .dataframe tbody tr th {\n",
       "        vertical-align: top;\n",
       "    }\n",
       "\n",
       "    .dataframe thead th {\n",
       "        text-align: right;\n",
       "    }\n",
       "</style>\n",
       "<table border=\"1\" class=\"dataframe\">\n",
       "  <thead>\n",
       "    <tr style=\"text-align: right;\">\n",
       "      <th></th>\n",
       "      <th>Released_Year</th>\n",
       "      <th>Series_Title</th>\n",
       "    </tr>\n",
       "  </thead>\n",
       "  <tbody>\n",
       "    <tr>\n",
       "      <th>92</th>\n",
       "      <td>2014</td>\n",
       "      <td>32</td>\n",
       "    </tr>\n",
       "    <tr>\n",
       "      <th>82</th>\n",
       "      <td>2004</td>\n",
       "      <td>31</td>\n",
       "    </tr>\n",
       "    <tr>\n",
       "      <th>87</th>\n",
       "      <td>2009</td>\n",
       "      <td>29</td>\n",
       "    </tr>\n",
       "    <tr>\n",
       "      <th>94</th>\n",
       "      <td>2016</td>\n",
       "      <td>28</td>\n",
       "    </tr>\n",
       "    <tr>\n",
       "      <th>91</th>\n",
       "      <td>2013</td>\n",
       "      <td>28</td>\n",
       "    </tr>\n",
       "    <tr>\n",
       "      <th>...</th>\n",
       "      <td>...</td>\n",
       "      <td>...</td>\n",
       "    </tr>\n",
       "    <tr>\n",
       "      <th>14</th>\n",
       "      <td>1936</td>\n",
       "      <td>1</td>\n",
       "    </tr>\n",
       "    <tr>\n",
       "      <th>8</th>\n",
       "      <td>1930</td>\n",
       "      <td>1</td>\n",
       "    </tr>\n",
       "    <tr>\n",
       "      <th>1</th>\n",
       "      <td>1921</td>\n",
       "      <td>1</td>\n",
       "    </tr>\n",
       "    <tr>\n",
       "      <th>2</th>\n",
       "      <td>1922</td>\n",
       "      <td>1</td>\n",
       "    </tr>\n",
       "    <tr>\n",
       "      <th>99</th>\n",
       "      <td>PG</td>\n",
       "      <td>1</td>\n",
       "    </tr>\n",
       "  </tbody>\n",
       "</table>\n",
       "<p>100 rows × 2 columns</p>\n",
       "</div>"
      ],
      "text/plain": [
       "   Released_Year  Series_Title\n",
       "92          2014            32\n",
       "82          2004            31\n",
       "87          2009            29\n",
       "94          2016            28\n",
       "91          2013            28\n",
       "..           ...           ...\n",
       "14          1936             1\n",
       "8           1930             1\n",
       "1           1921             1\n",
       "2           1922             1\n",
       "99            PG             1\n",
       "\n",
       "[100 rows x 2 columns]"
      ]
     },
     "execution_count": 11,
     "metadata": {},
     "output_type": "execute_result"
    }
   ],
   "source": [
    "#Película por año\n",
    "(\n",
    "    movies\n",
    "        .groupby('Released_Year',as_index=False)\n",
    "        ['Series_Title']\n",
    "        .count()\n",
    "        .sort_values(by=['Series_Title'],ascending=[False])\n",
    "        \n",
    ")"
   ]
  },
  {
   "cell_type": "code",
   "execution_count": null,
   "metadata": {},
   "outputs": [],
   "source": [
    "movies['Gross']=pd.to_numeric(movies['Gross'].str.replace(',',''),errors='coerce')\n"
   ]
  },
  {
   "cell_type": "code",
   "execution_count": null,
   "metadata": {},
   "outputs": [
    {
     "data": {
      "text/plain": [
       "0                           [Drama]\n",
       "1                   [Crime,  Drama]\n",
       "2          [Action,  Crime,  Drama]\n",
       "3                   [Crime,  Drama]\n",
       "4                   [Crime,  Drama]\n",
       "                   ...             \n",
       "995      [Comedy,  Drama,  Romance]\n",
       "996               [Drama,  Western]\n",
       "997         [Drama,  Romance,  War]\n",
       "998                   [Drama,  War]\n",
       "999    [Crime,  Mystery,  Thriller]\n",
       "Name: Genre, Length: 1000, dtype: object"
      ]
     },
     "execution_count": 21,
     "metadata": {},
     "output_type": "execute_result"
    }
   ],
   "source": [
    "movies['Genre']=movies['Genre'].str.split(',')\n"
   ]
  },
  {
   "cell_type": "code",
   "execution_count": 16,
   "metadata": {},
   "outputs": [
    {
     "data": {
      "text/plain": [
       "<Axes: title={'center': 'Cuartiles de Gross'}>"
      ]
     },
     "execution_count": 16,
     "metadata": {},
     "output_type": "execute_result"
    },
    {
     "data": {
      "image/png": "[encoded data removed]",
      "text/plain": [
       "<Figure size 640x480 with 1 Axes>"
      ]
     },
     "metadata": {},
     "output_type": "display_data"
    }
   ],
   "source": [
    "\n",
    "\n",
    "movies['Gross'].plot(kind='box', title='Cuartiles de Gross', grid=True)\n"
   ]
  },
  {
   "cell_type": "code",
   "execution_count": 22,
   "metadata": {},
   "outputs": [
    {
     "data": {
      "image/png": "[encoded data removed]",
      "text/plain": [
       "<Figure size 640x480 with 1 Axes>"
      ]
     },
     "metadata": {},
     "output_type": "display_data"
    }
   ],
   "source": [
    "\n",
    "movies.boxplot(column='Gross', by='Certificate')\n",
    "plt.title('Boxplot de \"valor\" por categoría')\n",
    "plt.suptitle('')  # Quita el título automático \"Boxplot grouped by categoria\"\n",
    "plt.xlabel('Categoría')\n",
    "plt.ylabel('Valor')\n",
    "plt.show()"
   ]
  },
  {
   "cell_type": "code",
   "execution_count": 23,
   "metadata": {},
   "outputs": [
    {
     "data": {
      "application/vnd.plotly.v1+json": {
       "config": {
        "plotlyServerURL": "https://plot.ly"
       },
       "data": [
        {
         "alignmentgroup": "True",
         "hovertemplate": "Certificate=%{x}<br>Gross=%{y}<extra></extra>",
         "legendgroup": "",
         "marker": {
          "color": "#636efa"
         },
         "name": "",
         "notched": false,
         "offsetgroup": "",
         "orientation": "v",
         "showlegend": false,
         "type": "box",
         "x": [
          "A",
          "A",
          "UA",
          "A",
          "U",
          "U",
          "A",
          "A",
          "UA",
          "A",
          "U",
          "UA",
          "A",
          "UA",
          "A",
          "A",
          "UA",
          "A",
          "PG-13",
          "A",
          "U",
          "UA",
          "A",
          "U",
          "R",
          "A",
          "U",
          "A",
          "A",
          "UA",
          null,
          "U",
          "PG",
          "A",
          "A",
          "UA",
          "U",
          "A",
          "R",
          "UA",
          "R",
          "A",
          "A",
          "U",
          "U",
          "U",
          "U",
          "U",
          "U",
          "A",
          "U",
          "G",
          "G",
          "A",
          null,
          "UA",
          "U",
          "U",
          "U",
          "UA",
          "UA",
          "U",
          "A",
          "UA",
          "UA",
          "U",
          "U",
          "A",
          "A",
          "UA",
          "U",
          "A",
          "A",
          "A",
          "R",
          "R",
          "U",
          null,
          "A",
          "U",
          "A",
          "U",
          "Passed",
          "Passed",
          "R",
          "A",
          "UA",
          "U",
          "R",
          "PG-13",
          "R",
          "TV-14",
          null,
          "A",
          "UA",
          "U",
          "UA",
          "A",
          "UA",
          "U",
          "PG",
          "U",
          "A",
          "R",
          "UA",
          "A",
          "U",
          "R",
          "A",
          "U",
          "R",
          "A",
          "U",
          "A",
          "U",
          "U",
          "U",
          "U",
          "U",
          "A",
          "G",
          null,
          null,
          "Passed",
          "UA",
          "Passed",
          null,
          "Passed",
          "UA",
          "UA",
          "UA",
          "UA",
          "A",
          "UA",
          "UA",
          "PG",
          "UA",
          "UA",
          null,
          "U",
          "A",
          "UA",
          "UA",
          "R",
          "UA",
          "A",
          "U",
          "A",
          "U",
          "A",
          "UA",
          "U",
          "A",
          "UA",
          "U",
          "UA",
          "U",
          "R",
          "U",
          "UA",
          "U",
          "A",
          "A",
          null,
          "A",
          "A",
          "U",
          "A",
          "U",
          "R",
          "U",
          "A",
          "U",
          "A",
          "U",
          "U",
          "PG",
          "U",
          "PG",
          "U",
          "U",
          null,
          "A",
          "U",
          "U",
          "A",
          null,
          "A",
          "U",
          null,
          "Passed",
          "Passed",
          "Passed",
          "Passed",
          "Passed",
          "R",
          "UA",
          "16",
          "TV-MA",
          "A",
          "R",
          "UA",
          "A",
          "R",
          "R",
          "U",
          null,
          "UA",
          "U",
          "UA",
          "A",
          "U",
          "A",
          "U",
          "U",
          "A",
          "UA",
          "UA",
          "A",
          "PG",
          "UA",
          "U",
          "A",
          "UA",
          "UA",
          "R",
          "UA",
          "PG-13",
          "G",
          null,
          "U",
          "R",
          "R",
          "U",
          "UA",
          "PG-13",
          "R",
          "R",
          "U",
          "UA",
          "Unrated",
          "R",
          "U",
          "A",
          "A",
          "U",
          "UA",
          "U",
          "A",
          "U",
          "U",
          "R",
          "R",
          "U",
          "A",
          "A",
          null,
          "UA",
          "U",
          "R",
          "U",
          "U",
          "UA",
          "UA",
          "R",
          "PG",
          "U",
          "U",
          "A",
          "U",
          "U",
          "A",
          "UA",
          "R",
          "A",
          "UA",
          "UA",
          "R",
          "A",
          "U",
          "UA",
          "PG",
          "G",
          "UA",
          "U",
          "A",
          "PG",
          "GP",
          "A",
          null,
          "R",
          null,
          null,
          "Passed",
          "U",
          null,
          null,
          "A",
          "Passed",
          null,
          "U",
          null,
          null,
          null,
          "PG",
          "A",
          "U",
          "Approved",
          null,
          "Approved",
          null,
          null,
          "Approved",
          "Passed",
          "U",
          null,
          "Approved",
          "Passed",
          "Passed",
          "Passed",
          "Passed",
          null,
          "UA",
          "U",
          "UA",
          "UA",
          "UA",
          "A",
          "U",
          "UA",
          "U",
          "UA",
          "U",
          "U",
          "UA",
          "UA",
          "R",
          "A",
          "UA",
          "UA",
          "UA",
          "A",
          "UA",
          "A",
          "UA",
          null,
          "U",
          "UA",
          "R",
          "TV-PG",
          "A",
          "R",
          "UA",
          null,
          "UA",
          "A",
          "R",
          "UA",
          "PG-13",
          "R",
          "U",
          "A",
          "UA",
          "U",
          "A",
          "PG-13",
          null,
          "U",
          "PG-13",
          "A",
          null,
          "R",
          "U",
          "UA",
          "U",
          "UA",
          "UA",
          "U",
          "U",
          null,
          "R",
          null,
          "R",
          "R",
          "U",
          "U",
          "A",
          "R",
          "R",
          "PG",
          null,
          "R",
          "U",
          "A",
          "UA",
          "U",
          "U",
          "R",
          "UA",
          "U",
          "UA",
          "G",
          "U",
          "R",
          "U",
          "UA",
          "U",
          "U",
          "U",
          "U",
          "UA",
          "U",
          "U",
          "PG",
          "A",
          "A",
          "U",
          "A",
          "R",
          "A",
          "PG",
          "R",
          "G",
          "UA",
          "PG",
          "A",
          "U",
          "A",
          "A",
          "U",
          "A",
          "A",
          null,
          null,
          "A",
          "A",
          "Passed",
          null,
          "PG-13",
          "A",
          "Approved",
          "Approved",
          null,
          null,
          null,
          null,
          null,
          "A",
          null,
          "U",
          "A",
          null,
          "U",
          "Passed",
          "Approved",
          null,
          null,
          "Passed",
          "U",
          null,
          "TV-PG",
          "U",
          null,
          "UA",
          "UA",
          "A",
          "U",
          "UA",
          "UA",
          "U",
          "UA",
          "R",
          "PG-13",
          "UA",
          "A",
          "UA",
          "UA",
          "U",
          "R",
          "UA",
          null,
          "U",
          "UA",
          "UA",
          "R",
          "A",
          "R",
          "R",
          "A",
          "UA",
          "U",
          "A",
          null,
          "UA",
          "R",
          null,
          "UA",
          "R",
          "U",
          "PG",
          null,
          "PG-13",
          "UA",
          "UA",
          "R",
          "A",
          "U",
          "PG-13",
          "R",
          "R",
          "U",
          "UA",
          "R",
          "A",
          "A",
          "R",
          "U",
          "R",
          "U",
          "A",
          "R",
          "U",
          "A",
          "A",
          "U",
          "U",
          "PG-13",
          "A",
          "PG-13",
          "U",
          "R",
          "U",
          "U",
          "R",
          "A",
          "A",
          "U",
          "R",
          "R",
          "PG",
          null,
          "PG",
          "U",
          "A",
          null,
          "PG",
          "U",
          "U",
          "PG-13",
          "A",
          "U",
          null,
          "U",
          "Passed",
          "U",
          "PG",
          "A",
          "Approved",
          null,
          "U",
          "Passed",
          "Passed",
          null,
          "Passed",
          "PG",
          "Passed",
          "Passed",
          null,
          null,
          "A",
          "UA",
          "R",
          "UA",
          "UA",
          null,
          "UA",
          "U",
          "A",
          "PG",
          "U",
          "UA",
          "R",
          "UA",
          "UA",
          "A",
          "U",
          "UA",
          "R",
          "PG-13",
          null,
          "U",
          "UA",
          "U",
          "R",
          "U",
          "PG-13",
          "U",
          "R",
          "A",
          "U",
          "A",
          null,
          null,
          "R",
          "UA",
          "R",
          "R",
          "R",
          null,
          "UA",
          "UA",
          "R",
          "R",
          null,
          "UA",
          "A",
          "PG-13",
          "R",
          "UA",
          null,
          "R",
          "A",
          "A",
          "UA",
          "R",
          "A",
          "UA",
          "UA",
          "UA",
          "U",
          "R",
          "PG",
          "U",
          "UA",
          "PG-13",
          "PG-13",
          null,
          "A",
          "U",
          "R",
          "PG-13",
          null,
          "PG-13",
          "R",
          "U",
          "UA",
          "R",
          "UA",
          "R",
          "UA",
          "PG",
          "U",
          "UA",
          null,
          "UA",
          "UA",
          "R",
          "U",
          "U",
          "R",
          "U",
          "U",
          null,
          "U",
          "R",
          "PG",
          "R",
          "R",
          "R",
          "A",
          "R",
          "U",
          "U",
          "R",
          "R",
          "U",
          "A",
          "A",
          "A",
          "U",
          "R",
          "U",
          "U",
          "UA",
          "UA",
          "UA",
          "PG",
          "U",
          "U",
          "A",
          "PG",
          "A",
          "PG",
          "U",
          "U",
          "A",
          "PG",
          "A",
          "U",
          "A",
          null,
          null,
          "A",
          "U",
          "U",
          "G",
          null,
          "A",
          "U",
          "Passed",
          null,
          "PG",
          "PG",
          "Passed",
          null,
          "Passed",
          null,
          null,
          "PG",
          "Passed",
          "R",
          null,
          "R",
          "R",
          "R",
          "UA",
          "PG-13",
          "R",
          "U",
          "U",
          "A",
          "UA",
          "PG-13",
          "A",
          "A",
          "U",
          null,
          "UA",
          "UA",
          "UA",
          "U",
          "PG",
          null,
          "PG-13",
          "U",
          "UA",
          "UA",
          null,
          "UA",
          "UA",
          "UA",
          "UA",
          "A",
          "A",
          "UA",
          "A",
          "U",
          "R",
          "U",
          "R",
          "PG",
          "U",
          null,
          null,
          "UA",
          "R",
          "R",
          "UA",
          "R",
          "PG-13",
          "R",
          "U",
          "R",
          "A",
          "A",
          "UA",
          "UA",
          "A",
          "R",
          "A",
          "UA",
          "UA",
          "UA",
          "U",
          "UA",
          "R",
          "R",
          "PG-13",
          "PG-13",
          "R",
          "A",
          "A",
          "R",
          "R",
          "R",
          "UA",
          "U",
          "U",
          "R",
          "A",
          "R",
          null,
          "A",
          "UA",
          "U",
          "R",
          "A",
          "UA",
          "PG-13",
          "A",
          "U",
          "A",
          "PG-13",
          "U",
          "UA",
          "U",
          "R",
          "R",
          "UA",
          "G",
          "U",
          "UA",
          "U",
          "R",
          "U",
          "PG-13",
          "U",
          "R",
          "U",
          null,
          "R",
          "U",
          "U",
          "R",
          "A",
          "U",
          "UA",
          "PG",
          "U",
          "U",
          "A",
          "U",
          "U",
          "U",
          "A",
          "R",
          "PG",
          "U",
          "A",
          "A",
          "A",
          "U",
          "A",
          "A",
          "U",
          "G",
          null,
          "A",
          "U",
          null,
          "U",
          "A",
          "A",
          "Passed",
          null,
          "Approved",
          null,
          "Approved",
          "PG-13",
          null,
          "Passed",
          "Passed",
          "U",
          "PG",
          "Approved",
          "G",
          "TV-PG",
          "PG-13",
          "U/A",
          "A",
          "R",
          "A",
          "A",
          "PG-13",
          "PG-13",
          null,
          "PG-13",
          "UA",
          "UA",
          "UA",
          "UA",
          "UA",
          "U",
          "A",
          "A",
          "R",
          "R",
          "PG-13",
          "UA",
          null,
          "A",
          "A",
          "U",
          "UA",
          "PG-13",
          "R",
          "U",
          "R",
          "UA",
          null,
          "PG-13",
          "R",
          "A",
          null,
          "PG-13",
          "UA",
          "PG-13",
          "UA",
          "R",
          "U",
          null,
          "R",
          "R",
          "PG-13",
          "PG-13",
          "U",
          null,
          "UA",
          "A",
          "R",
          "A",
          "R",
          "UA",
          "R",
          "R",
          "R",
          "U",
          "R",
          "UA",
          "R",
          "U",
          "R",
          "U",
          "A",
          null,
          "A",
          "A",
          "U",
          "PG-13",
          "R",
          "A",
          "A",
          "R",
          "A",
          "UA",
          "A",
          "U",
          "R",
          "A",
          "A",
          "UA",
          "A",
          "U",
          "A",
          "R",
          "A",
          "U",
          "U",
          "R",
          "U",
          "UA",
          "U",
          "R",
          "U",
          "A",
          "UA",
          "U",
          "U",
          "U",
          "A",
          "A",
          "UA",
          "A",
          "UA",
          "U",
          "A",
          "U",
          "A",
          "U",
          "A",
          "PG",
          "GP",
          "U",
          "A",
          "U",
          "A",
          "G",
          "Passed",
          null,
          null
         ],
         "x0": " ",
         "xaxis": "x",
         "y": {
          "bdata": "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",
          "dtype": "f8"
         },
         "y0": " ",
         "yaxis": "y"
        }
       ],
       "layout": {
        "boxmode": "group",
        "legend": {
         "tracegroupgap": 0
        },
        "template": {
         "data": {
          "bar": [
           {
            "error_x": {
             "color": "#2a3f5f"
            },
            "error_y": {
             "color": "#2a3f5f"
            },
            "marker": {
             "line": {
              "color": "#E5ECF6",
              "width": 0.5
             },
             "pattern": {
              "fillmode": "overlay",
              "size": 10,
              "solidity": 0.2
             }
            },
            "type": "bar"
           }
          ],
          "barpolar": [
           {
            "marker": {
             "line": {
              "color": "#E5ECF6",
              "width": 0.5
             },
             "pattern": {
              "fillmode": "overlay",
              "size": 10,
              "solidity": 0.2
             }
            },
            "type": "barpolar"
           }
          ],
          "carpet": [
           {
            "aaxis": {
             "endlinecolor": "#2a3f5f",
             "gridcolor": "white",
             "linecolor": "white",
             "minorgridcolor": "white",
             "startlinecolor": "#2a3f5f"
            },
            "baxis": {
             "endlinecolor": "#2a3f5f",
             "gridcolor": "white",
             "linecolor": "white",
             "minorgridcolor": "white",
             "startlinecolor": "#2a3f5f"
            },
            "type": "carpet"
           }
          ],
          "choropleth": [
           {
            "colorbar": {
             "outlinewidth": 0,
             "ticks": ""
            },
            "type": "choropleth"
           }
          ],
          "contour": [
           {
            "colorbar": {
             "outlinewidth": 0,
             "ticks": ""
            },
            "colorscale": [
             [
              0,
              "#0d0887"
             ],
             [
              0.1111111111111111,
              "#46039f"
             ],
             [
              0.2222222222222222,
              "#7201a8"
             ],
             [
              0.3333333333333333,
              "#9c179e"
             ],
             [
              0.4444444444444444,
              "#bd3786"
             ],
             [
              0.5555555555555556,
              "#d8576b"
             ],
             [
              0.6666666666666666,
              "#ed7953"
             ],
             [
              0.7777777777777778,
              "#fb9f3a"
             ],
             [
              0.8888888888888888,
              "#fdca26"
             ],
             [
              1,
              "#f0f921"
             ]
            ],
            "type": "contour"
           }
          ],
          "contourcarpet": [
           {
            "colorbar": {
             "outlinewidth": 0,
             "ticks": ""
            },
            "type": "contourcarpet"
           }
          ],
          "heatmap": [
           {
            "colorbar": {
             "outlinewidth": 0,
             "ticks": ""
            },
            "colorscale": [
             [
              0,
              "#0d0887"
             ],
             [
              0.1111111111111111,
              "#46039f"
             ],
             [
              0.2222222222222222,
              "#7201a8"
             ],
             [
              0.3333333333333333,
              "#9c179e"
             ],
             [
              0.4444444444444444,
              "#bd3786"
             ],
             [
              0.5555555555555556,
              "#d8576b"
             ],
             [
              0.6666666666666666,
              "#ed7953"
             ],
             [
              0.7777777777777778,
              "#fb9f3a"
             ],
             [
              0.8888888888888888,
              "#fdca26"
             ],
             [
              1,
              "#f0f921"
             ]
            ],
            "type": "heatmap"
           }
          ],
          "histogram": [
           {
            "marker": {
             "pattern": {
              "fillmode": "overlay",
              "size": 10,
              "solidity": 0.2
             }
            },
            "type": "histogram"
           }
          ],
          "histogram2d": [
           {
            "colorbar": {
             "outlinewidth": 0,
             "ticks": ""
            },
            "colorscale": [
             [
              0,
              "#0d0887"
             ],
             [
              0.1111111111111111,
              "#46039f"
             ],
             [
              0.2222222222222222,
              "#7201a8"
             ],
             [
              0.3333333333333333,
              "#9c179e"
             ],
             [
              0.4444444444444444,
              "#bd3786"
             ],
             [
              0.5555555555555556,
              "#d8576b"
             ],
             [
              0.6666666666666666,
              "#ed7953"
             ],
             [
              0.7777777777777778,
              "#fb9f3a"
             ],
             [
              0.8888888888888888,
              "#fdca26"
             ],
             [
              1,
              "#f0f921"
             ]
            ],
            "type": "histogram2d"
           }
          ],
          "histogram2dcontour": [
           {
            "colorbar": {
             "outlinewidth": 0,
             "ticks": ""
            },
            "colorscale": [
             [
              0,
              "#0d0887"
             ],
             [
              0.1111111111111111,
              "#46039f"
             ],
             [
              0.2222222222222222,
              "#7201a8"
             ],
             [
              0.3333333333333333,
              "#9c179e"
             ],
             [
              0.4444444444444444,
              "#bd3786"
             ],
             [
              0.5555555555555556,
              "#d8576b"
             ],
             [
              0.6666666666666666,
              "#ed7953"
             ],
             [
              0.7777777777777778,
              "#fb9f3a"
             ],
             [
              0.8888888888888888,
              "#fdca26"
             ],
             [
              1,
              "#f0f921"
             ]
            ],
            "type": "histogram2dcontour"
           }
          ],
          "mesh3d": [
           {
            "colorbar": {
             "outlinewidth": 0,
             "ticks": ""
            },
            "type": "mesh3d"
           }
          ],
          "parcoords": [
           {
            "line": {
             "colorbar": {
              "outlinewidth": 0,
              "ticks": ""
             }
            },
            "type": "parcoords"
           }
          ],
          "pie": [
           {
            "automargin": true,
            "type": "pie"
           }
          ],
          "scatter": [
           {
            "fillpattern": {
             "fillmode": "overlay",
             "size": 10,
             "solidity": 0.2
            },
            "type": "scatter"
           }
          ],
          "scatter3d": [
           {
            "line": {
             "colorbar": {
              "outlinewidth": 0,
              "ticks": ""
             }
            },
            "marker": {
             "colorbar": {
              "outlinewidth": 0,
              "ticks": ""
             }
            },
            "type": "scatter3d"
           }
          ],
          "scattercarpet": [
           {
            "marker": {
             "colorbar": {
              "outlinewidth": 0,
              "ticks": ""
             }
            },
            "type": "scattercarpet"
           }
          ],
          "scattergeo": [
           {
            "marker": {
             "colorbar": {
              "outlinewidth": 0,
              "ticks": ""
             }
            },
            "type": "scattergeo"
           }
          ],
          "scattergl": [
           {
            "marker": {
             "colorbar": {
              "outlinewidth": 0,
              "ticks": ""
             }
            },
            "type": "scattergl"
           }
          ],
          "scattermap": [
           {
            "marker": {
             "colorbar": {
              "outlinewidth": 0,
              "ticks": ""
             }
            },
            "type": "scattermap"
           }
          ],
          "scattermapbox": [
           {
            "marker": {
             "colorbar": {
              "outlinewidth": 0,
              "ticks": ""
             }
            },
            "type": "scattermapbox"
           }
          ],
          "scatterpolar": [
           {
            "marker": {
             "colorbar": {
              "outlinewidth": 0,
              "ticks": ""
             }
            },
            "type": "scatterpolar"
           }
          ],
          "scatterpolargl": [
           {
            "marker": {
             "colorbar": {
              "outlinewidth": 0,
              "ticks": ""
             }
            },
            "type": "scatterpolargl"
           }
          ],
          "scatterternary": [
           {
            "marker": {
             "colorbar": {
              "outlinewidth": 0,
              "ticks": ""
             }
            },
            "type": "scatterternary"
           }
          ],
          "surface": [
           {
            "colorbar": {
             "outlinewidth": 0,
             "ticks": ""
            },
            "colorscale": [
             [
              0,
              "#0d0887"
             ],
             [
              0.1111111111111111,
              "#46039f"
             ],
             [
              0.2222222222222222,
              "#7201a8"
             ],
             [
              0.3333333333333333,
              "#9c179e"
             ],
             [
              0.4444444444444444,
              "#bd3786"
             ],
             [
              0.5555555555555556,
              "#d8576b"
             ],
             [
              0.6666666666666666,
              "#ed7953"
             ],
             [
              0.7777777777777778,
              "#fb9f3a"
             ],
             [
              0.8888888888888888,
              "#fdca26"
             ],
             [
              1,
              "#f0f921"
             ]
            ],
            "type": "surface"
           }
          ],
          "table": [
           {
            "cells": {
             "fill": {
              "color": "#EBF0F8"
             },
             "line": {
              "color": "white"
             }
            },
            "header": {
             "fill": {
              "color": "#C8D4E3"
             },
             "line": {
              "color": "white"
             }
            },
            "type": "table"
           }
          ]
         },
         "layout": {
          "annotationdefaults": {
           "arrowcolor": "#2a3f5f",
           "arrowhead": 0,
           "arrowwidth": 1
          },
          "autotypenumbers": "strict",
          "coloraxis": {
           "colorbar": {
            "outlinewidth": 0,
            "ticks": ""
           }
          },
          "colorscale": {
           "diverging": [
            [
             0,
             "#8e0152"
            ],
            [
             0.1,
             "#c51b7d"
            ],
            [
             0.2,
             "#de77ae"
            ],
            [
             0.3,
             "#f1b6da"
            ],
            [
             0.4,
             "#fde0ef"
            ],
            [
             0.5,
             "#f7f7f7"
            ],
            [
             0.6,
             "#e6f5d0"
            ],
            [
             0.7,
             "#b8e186"
            ],
            [
             0.8,
             "#7fbc41"
            ],
            [
             0.9,
             "#4d9221"
            ],
            [
             1,
             "#276419"
            ]
           ],
           "sequential": [
            [
             0,
             "#0d0887"
            ],
            [
             0.1111111111111111,
             "#46039f"
            ],
            [
             0.2222222222222222,
             "#7201a8"
            ],
            [
             0.3333333333333333,
             "#9c179e"
            ],
            [
             0.4444444444444444,
             "#bd3786"
            ],
            [
             0.5555555555555556,
             "#d8576b"
            ],
            [
             0.6666666666666666,
             "#ed7953"
            ],
            [
             0.7777777777777778,
             "#fb9f3a"
            ],
            [
             0.8888888888888888,
             "#fdca26"
            ],
            [
             1,
             "#f0f921"
            ]
           ],
           "sequentialminus": [
            [
             0,
             "#0d0887"
            ],
            [
             0.1111111111111111,
             "#46039f"
            ],
            [
             0.2222222222222222,
             "#7201a8"
            ],
            [
             0.3333333333333333,
             "#9c179e"
            ],
            [
             0.4444444444444444,
             "#bd3786"
            ],
            [
             0.5555555555555556,
             "#d8576b"
            ],
            [
             0.6666666666666666,
             "#ed7953"
            ],
            [
             0.7777777777777778,
             "#fb9f3a"
            ],
            [
             0.8888888888888888,
             "#fdca26"
            ],
            [
             1,
             "#f0f921"
            ]
           ]
          },
          "colorway": [
           "#636efa",
           "#EF553B",
           "#00cc96",
           "#ab63fa",
           "#FFA15A",
           "#19d3f3",
           "#FF6692",
           "#B6E880",
           "#FF97FF",
           "#FECB52"
          ],
          "font": {
           "color": "#2a3f5f"
          },
          "geo": {
           "bgcolor": "white",
           "lakecolor": "white",
           "landcolor": "#E5ECF6",
           "showlakes": true,
           "showland": true,
           "subunitcolor": "white"
          },
          "hoverlabel": {
           "align": "left"
          },
          "hovermode": "closest",
          "mapbox": {
           "style": "light"
          },
          "paper_bgcolor": "white",
          "plot_bgcolor": "#E5ECF6",
          "polar": {
           "angularaxis": {
            "gridcolor": "white",
            "linecolor": "white",
            "ticks": ""
           },
           "bgcolor": "#E5ECF6",
           "radialaxis": {
            "gridcolor": "white",
            "linecolor": "white",
            "ticks": ""
           }
          },
          "scene": {
           "xaxis": {
            "backgroundcolor": "#E5ECF6",
            "gridcolor": "white",
            "gridwidth": 2,
            "linecolor": "white",
            "showbackground": true,
            "ticks": "",
            "zerolinecolor": "white"
           },
           "yaxis": {
            "backgroundcolor": "#E5ECF6",
            "gridcolor": "white",
            "gridwidth": 2,
            "linecolor": "white",
            "showbackground": true,
            "ticks": "",
            "zerolinecolor": "white"
           },
           "zaxis": {
            "backgroundcolor": "#E5ECF6",
            "gridcolor": "white",
            "gridwidth": 2,
            "linecolor": "white",
            "showbackground": true,
            "ticks": "",
            "zerolinecolor": "white"
           }
          },
          "shapedefaults": {
           "line": {
            "color": "#2a3f5f"
           }
          },
          "ternary": {
           "aaxis": {
            "gridcolor": "white",
            "linecolor": "white",
            "ticks": ""
           },
           "baxis": {
            "gridcolor": "white",
            "linecolor": "white",
            "ticks": ""
           },
           "bgcolor": "#E5ECF6",
           "caxis": {
            "gridcolor": "white",
            "linecolor": "white",
            "ticks": ""
           }
          },
          "title": {
           "x": 0.05
          },
          "xaxis": {
           "automargin": true,
           "gridcolor": "white",
           "linecolor": "white",
           "ticks": "",
           "title": {
            "standoff": 15
           },
           "zerolinecolor": "white",
           "zerolinewidth": 2
          },
          "yaxis": {
           "automargin": true,
           "gridcolor": "white",
           "linecolor": "white",
           "ticks": "",
           "title": {
            "standoff": 15
           },
           "zerolinecolor": "white",
           "zerolinewidth": 2
          }
         }
        },
        "title": {
         "text": "Boxplot de \"Gross\" por categoría (Certificate)"
        },
        "xaxis": {
         "anchor": "y",
         "domain": [
          0,
          1
         ],
         "title": {
          "text": "Categoría"
         }
        },
        "yaxis": {
         "anchor": "x",
         "domain": [
          0,
          1
         ],
         "title": {
          "text": "Valor"
         }
        }
       }
      }
     },
     "metadata": {},
     "output_type": "display_data"
    }
   ],
   "source": [
    "fig = px.box(movies, x='Certificate', y='Gross', title='Boxplot de \"Gross\" por categoría (Certificate)')\n",
    "fig.update_layout(\n",
    "    xaxis_title='Categoría',\n",
    "    yaxis_title='Valor',\n",
    "    boxmode='group'  # Por si tienes múltiples trazas en el futuro\n",
    ")\n",
    "fig.show()\n"
   ]
  }
 ],
 "metadata": {
  "kernelspec": {
   "display_name": ".venv",
   "language": "python",
   "name": "python3"
  },
  "language_info": {
   "codemirror_mode": {
    "name": "ipython",
    "version": 3
   },
   "file_extension": ".py",
   "mimetype": "text/x-python",
   "name": "python",
   "nbconvert_exporter": "python",
   "pygments_lexer": "ipython3",
   "version": "3.12.0"
  }
 },
 "nbformat": 4,
 "nbformat_minor": 2
}

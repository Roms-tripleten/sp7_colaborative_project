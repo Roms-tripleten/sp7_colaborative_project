{
 "cells": [
  {
   "cell_type": "markdown",
   "metadata": {},
   "source": [
    "# Análisis exploratorio para bikes\n",
    "## Análisis sugeridos:\n",
    "1.  Distribución de uso por hora (`cnt` vs `hr`)\n",
    "2. Comparación de uso entre días laborales y fines de semana\n",
    "3. Influencia del clima (`weathersit`) en la cantidad de bicicletas alquiladas\n"
   ]
  },
  {
   "cell_type": "code",
   "execution_count": null,
   "metadata": {},
   "outputs": [],
   "source": [
    "import pandas as pd\n",
    "bikes = pd.read_csv('../dataset/bikes.csv')\n",
    "bikes.head()"
   ]
  }
 ],
 "metadata": {
  "kernelspec": {
   "display_name": "Python 3",
   "language": "python",
   "name": "python3"
  },
  "language_info": {
   "name": "python",
   "version": "3.11"
  }
 },
 "nbformat": 4,
 "nbformat_minor": 2
}

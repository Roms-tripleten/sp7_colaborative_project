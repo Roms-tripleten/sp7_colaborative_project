{
 "cells": [
  {
   "cell_type": "markdown",
   "metadata": {},
   "source": [
    "# Análisis exploratorio para bikes\n",
    "## Análisis sugeridos:\n",
    "1.  Distribución de uso por hora (`cnt` vs `hr`)\n",
    "2. Comparación de uso entre días laborales y fines de semana\n",
    "3. Influencia del clima (`weathersit`) en la cantidad de bicicletas alquiladas\n"
   ]
  },
  {
   "cell_type": "code",
   "execution_count": 1,
   "metadata": {},
   "outputs": [],
   "source": [
    "import pandas as pd\n",
    "import matplotlib.pyplot as plt\n",
    "import plotly.express as px\n"
   ]
  },
  {
   "cell_type": "code",
   "execution_count": 2,
   "metadata": {},
   "outputs": [
    {
     "data": {
      "text/html": [
       "<div>\n",
       "<style scoped>\n",
       "    .dataframe tbody tr th:only-of-type {\n",
       "        vertical-align: middle;\n",
       "    }\n",
       "\n",
       "    .dataframe tbody tr th {\n",
       "        vertical-align: top;\n",
       "    }\n",
       "\n",
       "    .dataframe thead th {\n",
       "        text-align: right;\n",
       "    }\n",
       "</style>\n",
       "<table border=\"1\" class=\"dataframe\">\n",
       "  <thead>\n",
       "    <tr style=\"text-align: right;\">\n",
       "      <th></th>\n",
       "      <th>instant</th>\n",
       "      <th>dteday</th>\n",
       "      <th>season</th>\n",
       "      <th>yr</th>\n",
       "      <th>mnth</th>\n",
       "      <th>hr</th>\n",
       "      <th>holiday</th>\n",
       "      <th>weekday</th>\n",
       "      <th>workingday</th>\n",
       "      <th>weathersit</th>\n",
       "      <th>temp</th>\n",
       "      <th>atemp</th>\n",
       "      <th>hum</th>\n",
       "      <th>windspeed</th>\n",
       "      <th>casual</th>\n",
       "      <th>registered</th>\n",
       "      <th>cnt</th>\n",
       "    </tr>\n",
       "  </thead>\n",
       "  <tbody>\n",
       "    <tr>\n",
       "      <th>0</th>\n",
       "      <td>1</td>\n",
       "      <td>2011-01-01</td>\n",
       "      <td>1</td>\n",
       "      <td>0</td>\n",
       "      <td>1</td>\n",
       "      <td>0</td>\n",
       "      <td>0</td>\n",
       "      <td>6</td>\n",
       "      <td>0</td>\n",
       "      <td>1</td>\n",
       "      <td>0.24</td>\n",
       "      <td>0.2879</td>\n",
       "      <td>0.81</td>\n",
       "      <td>0.0</td>\n",
       "      <td>3</td>\n",
       "      <td>13</td>\n",
       "      <td>16</td>\n",
       "    </tr>\n",
       "    <tr>\n",
       "      <th>1</th>\n",
       "      <td>2</td>\n",
       "      <td>2011-01-01</td>\n",
       "      <td>1</td>\n",
       "      <td>0</td>\n",
       "      <td>1</td>\n",
       "      <td>1</td>\n",
       "      <td>0</td>\n",
       "      <td>6</td>\n",
       "      <td>0</td>\n",
       "      <td>1</td>\n",
       "      <td>0.22</td>\n",
       "      <td>0.2727</td>\n",
       "      <td>0.80</td>\n",
       "      <td>0.0</td>\n",
       "      <td>8</td>\n",
       "      <td>32</td>\n",
       "      <td>40</td>\n",
       "    </tr>\n",
       "    <tr>\n",
       "      <th>2</th>\n",
       "      <td>3</td>\n",
       "      <td>2011-01-01</td>\n",
       "      <td>1</td>\n",
       "      <td>0</td>\n",
       "      <td>1</td>\n",
       "      <td>2</td>\n",
       "      <td>0</td>\n",
       "      <td>6</td>\n",
       "      <td>0</td>\n",
       "      <td>1</td>\n",
       "      <td>0.22</td>\n",
       "      <td>0.2727</td>\n",
       "      <td>0.80</td>\n",
       "      <td>0.0</td>\n",
       "      <td>5</td>\n",
       "      <td>27</td>\n",
       "      <td>32</td>\n",
       "    </tr>\n",
       "    <tr>\n",
       "      <th>3</th>\n",
       "      <td>4</td>\n",
       "      <td>2011-01-01</td>\n",
       "      <td>1</td>\n",
       "      <td>0</td>\n",
       "      <td>1</td>\n",
       "      <td>3</td>\n",
       "      <td>0</td>\n",
       "      <td>6</td>\n",
       "      <td>0</td>\n",
       "      <td>1</td>\n",
       "      <td>0.24</td>\n",
       "      <td>0.2879</td>\n",
       "      <td>0.75</td>\n",
       "      <td>0.0</td>\n",
       "      <td>3</td>\n",
       "      <td>10</td>\n",
       "      <td>13</td>\n",
       "    </tr>\n",
       "    <tr>\n",
       "      <th>4</th>\n",
       "      <td>5</td>\n",
       "      <td>2011-01-01</td>\n",
       "      <td>1</td>\n",
       "      <td>0</td>\n",
       "      <td>1</td>\n",
       "      <td>4</td>\n",
       "      <td>0</td>\n",
       "      <td>6</td>\n",
       "      <td>0</td>\n",
       "      <td>1</td>\n",
       "      <td>0.24</td>\n",
       "      <td>0.2879</td>\n",
       "      <td>0.75</td>\n",
       "      <td>0.0</td>\n",
       "      <td>0</td>\n",
       "      <td>1</td>\n",
       "      <td>1</td>\n",
       "    </tr>\n",
       "  </tbody>\n",
       "</table>\n",
       "</div>"
      ],
      "text/plain": [
       "   instant      dteday  season  yr  mnth  hr  holiday  weekday  workingday  \\\n",
       "0        1  2011-01-01       1   0     1   0        0        6           0   \n",
       "1        2  2011-01-01       1   0     1   1        0        6           0   \n",
       "2        3  2011-01-01       1   0     1   2        0        6           0   \n",
       "3        4  2011-01-01       1   0     1   3        0        6           0   \n",
       "4        5  2011-01-01       1   0     1   4        0        6           0   \n",
       "\n",
       "   weathersit  temp   atemp   hum  windspeed  casual  registered  cnt  \n",
       "0           1  0.24  0.2879  0.81        0.0       3          13   16  \n",
       "1           1  0.22  0.2727  0.80        0.0       8          32   40  \n",
       "2           1  0.22  0.2727  0.80        0.0       5          27   32  \n",
       "3           1  0.24  0.2879  0.75        0.0       3          10   13  \n",
       "4           1  0.24  0.2879  0.75        0.0       0           1    1  "
      ]
     },
     "execution_count": 2,
     "metadata": {},
     "output_type": "execute_result"
    }
   ],
   "source": [
    "bikes = pd.read_csv('../dataset/bikes.csv')\n",
    "bikes.head()"
   ]
  },
  {
   "cell_type": "code",
   "execution_count": 3,
   "metadata": {},
   "outputs": [
    {
     "name": "stdout",
     "output_type": "stream",
     "text": [
      "<class 'pandas.core.frame.DataFrame'>\n",
      "RangeIndex: 17379 entries, 0 to 17378\n",
      "Data columns (total 17 columns):\n",
      " #   Column      Non-Null Count  Dtype  \n",
      "---  ------      --------------  -----  \n",
      " 0   instant     17379 non-null  int64  \n",
      " 1   dteday      17379 non-null  object \n",
      " 2   season      17379 non-null  int64  \n",
      " 3   yr          17379 non-null  int64  \n",
      " 4   mnth        17379 non-null  int64  \n",
      " 5   hr          17379 non-null  int64  \n",
      " 6   holiday     17379 non-null  int64  \n",
      " 7   weekday     17379 non-null  int64  \n",
      " 8   workingday  17379 non-null  int64  \n",
      " 9   weathersit  17379 non-null  int64  \n",
      " 10  temp        17379 non-null  float64\n",
      " 11  atemp       17379 non-null  float64\n",
      " 12  hum         17379 non-null  float64\n",
      " 13  windspeed   17379 non-null  float64\n",
      " 14  casual      17379 non-null  int64  \n",
      " 15  registered  17379 non-null  int64  \n",
      " 16  cnt         17379 non-null  int64  \n",
      "dtypes: float64(4), int64(12), object(1)\n",
      "memory usage: 2.3+ MB\n"
     ]
    }
   ],
   "source": [
    "bikes.info()"
   ]
  },
  {
   "cell_type": "markdown",
   "metadata": {},
   "source": [
    "## Analisis exploratorio (ejemplos)"
   ]
  },
  {
   "cell_type": "code",
   "execution_count": 4,
   "metadata": {},
   "outputs": [
    {
     "data": {
      "text/html": [
       "<div>\n",
       "<style scoped>\n",
       "    .dataframe tbody tr th:only-of-type {\n",
       "        vertical-align: middle;\n",
       "    }\n",
       "\n",
       "    .dataframe tbody tr th {\n",
       "        vertical-align: top;\n",
       "    }\n",
       "\n",
       "    .dataframe thead th {\n",
       "        text-align: right;\n",
       "    }\n",
       "</style>\n",
       "<table border=\"1\" class=\"dataframe\">\n",
       "  <thead>\n",
       "    <tr style=\"text-align: right;\">\n",
       "      <th></th>\n",
       "      <th>season</th>\n",
       "      <th>n_dias</th>\n",
       "    </tr>\n",
       "  </thead>\n",
       "  <tbody>\n",
       "    <tr>\n",
       "      <th>2</th>\n",
       "      <td>Verano</td>\n",
       "      <td>1061129</td>\n",
       "    </tr>\n",
       "    <tr>\n",
       "      <th>1</th>\n",
       "      <td>Primavera</td>\n",
       "      <td>918589</td>\n",
       "    </tr>\n",
       "    <tr>\n",
       "      <th>3</th>\n",
       "      <td>Otoño</td>\n",
       "      <td>841613</td>\n",
       "    </tr>\n",
       "    <tr>\n",
       "      <th>0</th>\n",
       "      <td>Invierno</td>\n",
       "      <td>471348</td>\n",
       "    </tr>\n",
       "  </tbody>\n",
       "</table>\n",
       "</div>"
      ],
      "text/plain": [
       "      season   n_dias\n",
       "2     Verano  1061129\n",
       "1  Primavera   918589\n",
       "3      Otoño   841613\n",
       "0   Invierno   471348"
      ]
     },
     "execution_count": 4,
     "metadata": {},
     "output_type": "execute_result"
    }
   ],
   "source": [
    "# Dias por estación\n",
    "\n",
    "def map_season(season_id):\n",
    "    seasons={\n",
    "        1:'Invierno',\n",
    "        2: 'Primavera',\n",
    "        3: 'Verano',\n",
    "        4:'Otoño'\n",
    "    }\n",
    "    return seasons.get(season_id,'Desconocido')\n",
    "\n",
    "metric=(\n",
    "    bikes\n",
    "        .groupby('season',as_index=False)\n",
    "        .agg(n_dias =('cnt','sum'))\n",
    "        \n",
    ")\n",
    "metric['season'] = metric['season'].apply(map_season)\n",
    "\n",
    "metric.sort_values(by='n_dias',ascending=False)"
   ]
  },
  {
   "cell_type": "code",
   "execution_count": 5,
   "metadata": {},
   "outputs": [
    {
     "data": {
      "image/png": "[encoded data removed]",
      "text/plain": [
       "<Figure size 1000x600 with 1 Axes>"
      ]
     },
     "metadata": {},
     "output_type": "display_data"
    }
   ],
   "source": [
    "# Distribución de rentas por estación\n",
    "\n",
    "\n",
    "plt.figure(figsize=(10, 6))\n",
    "plt.hist(bikes.query('season == 1')['cnt'], bins=30, alpha=0.5, label='Invierno', color='blue')\n",
    "plt.hist(bikes.query('season == 2')['cnt'], bins=30, alpha=0.5, label='Primavera', color='green')\n",
    "plt.hist(bikes.query('season == 3')['cnt'], bins=30, alpha=0.5, label='Verano', color='orange')\n",
    "plt.hist(bikes.query('season == 4')['cnt'], bins=30, alpha=0.5, label='Otoño', color='red')\n",
    "plt.legend()\n",
    "plt.title('Distribución de rentas por hora según estación')\n",
    "plt.xlabel('Cantidad de rentas')\n",
    "plt.ylabel('Frecuencia')\n",
    "plt.grid(True)\n",
    "plt.show()\n",
    "\n"
   ]
  },
  {
   "cell_type": "code",
   "execution_count": 6,
   "metadata": {},
   "outputs": [
    {
     "data": {
      "application/vnd.plotly.v1+json": {
       "config": {
        "plotlyServerURL": "https://plot.ly"
       },
       "data": [
        {
         "bingroup": "x",
         "hovertemplate": "Estación=Invierno<br>Cantidad de rentas=%{x}<br>count=%{y}<extra></extra>",
         "legendgroup": "Invierno",
         "marker": {
          "color": "#636efa",
          "opacity": 0.6,
          "pattern": {
           "shape": ""
          }
         },
         "name": "Invierno",
         "nbinsx": 30,
         "orientation": "v",
         "showlegend": true,
         "type": "histogram",
         "x": {
          "bdata": "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",
          "dtype": "i2"
         },
         "xaxis": "x",
         "yaxis": "y"
        },
        {
         "bingroup": "x",
         "hovertemplate": "Estación=Primavera<br>Cantidad de rentas=%{x}<br>count=%{y}<extra></extra>",
         "legendgroup": "Primavera",
         "marker": {
          "color": "#EF553B",
          "opacity": 0.6,
          "pattern": {
           "shape": ""
          }
         },
         "name": "Primavera",
         "nbinsx": 30,
         "orientation": "v",
         "showlegend": true,
         "type": "histogram",
         "x": {
          "bdata": "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",
          "dtype": "i2"
         },
         "xaxis": "x",
         "yaxis": "y"
        },
        {
         "bingroup": "x",
         "hovertemplate": "Estación=Verano<br>Cantidad de rentas=%{x}<br>count=%{y}<extra></extra>",
         "legendgroup": "Verano",
         "marker": {
          "color": "#00cc96",
          "opacity": 0.6,
          "pattern": {
           "shape": ""
          }
         },
         "name": "Verano",
         "nbinsx": 30,
         "orientation": "v",
         "showlegend": true,
         "type": "histogram",
         "x": {
          "bdata": "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",
          "dtype": "i2"
         },
         "xaxis": "x",
         "yaxis": "y"
        },
        {
         "bingroup": "x",
         "hovertemplate": "Estación=Otoño<br>Cantidad de rentas=%{x}<br>count=%{y}<extra></extra>",
         "legendgroup": "Otoño",
         "marker": {
          "color": "#ab63fa",
          "opacity": 0.6,
          "pattern": {
           "shape": ""
          }
         },
         "name": "Otoño",
         "nbinsx": 30,
         "orientation": "v",
         "showlegend": true,
         "type": "histogram",
         "x": {
          "bdata": "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",
          "dtype": "i2"
         },
         "xaxis": "x",
         "yaxis": "y"
        }
       ],
       "layout": {
        "barmode": "overlay",
        "legend": {
         "title": {
          "text": "Estación"
         },
         "tracegroupgap": 0
        },
        "template": {
         "data": {
          "bar": [
           {
            "error_x": {
             "color": "#2a3f5f"
            },
            "error_y": {
             "color": "#2a3f5f"
            },
            "marker": {
             "line": {
              "color": "#E5ECF6",
              "width": 0.5
             },
             "pattern": {
              "fillmode": "overlay",
              "size": 10,
              "solidity": 0.2
             }
            },
            "type": "bar"
           }
          ],
          "barpolar": [
           {
            "marker": {
             "line": {
              "color": "#E5ECF6",
              "width": 0.5
             },
             "pattern": {
              "fillmode": "overlay",
              "size": 10,
              "solidity": 0.2
             }
            },
            "type": "barpolar"
           }
          ],
          "carpet": [
           {
            "aaxis": {
             "endlinecolor": "#2a3f5f",
             "gridcolor": "white",
             "linecolor": "white",
             "minorgridcolor": "white",
             "startlinecolor": "#2a3f5f"
            },
            "baxis": {
             "endlinecolor": "#2a3f5f",
             "gridcolor": "white",
             "linecolor": "white",
             "minorgridcolor": "white",
             "startlinecolor": "#2a3f5f"
            },
            "type": "carpet"
           }
          ],
          "choropleth": [
           {
            "colorbar": {
             "outlinewidth": 0,
             "ticks": ""
            },
            "type": "choropleth"
           }
          ],
          "contour": [
           {
            "colorbar": {
             "outlinewidth": 0,
             "ticks": ""
            },
            "colorscale": [
             [
              0,
              "#0d0887"
             ],
             [
              0.1111111111111111,
              "#46039f"
             ],
             [
              0.2222222222222222,
              "#7201a8"
             ],
             [
              0.3333333333333333,
              "#9c179e"
             ],
             [
              0.4444444444444444,
              "#bd3786"
             ],
             [
              0.5555555555555556,
              "#d8576b"
             ],
             [
              0.6666666666666666,
              "#ed7953"
             ],
             [
              0.7777777777777778,
              "#fb9f3a"
             ],
             [
              0.8888888888888888,
              "#fdca26"
             ],
             [
              1,
              "#f0f921"
             ]
            ],
            "type": "contour"
           }
          ],
          "contourcarpet": [
           {
            "colorbar": {
             "outlinewidth": 0,
             "ticks": ""
            },
            "type": "contourcarpet"
           }
          ],
          "heatmap": [
           {
            "colorbar": {
             "outlinewidth": 0,
             "ticks": ""
            },
            "colorscale": [
             [
              0,
              "#0d0887"
             ],
             [
              0.1111111111111111,
              "#46039f"
             ],
             [
              0.2222222222222222,
              "#7201a8"
             ],
             [
              0.3333333333333333,
              "#9c179e"
             ],
             [
              0.4444444444444444,
              "#bd3786"
             ],
             [
              0.5555555555555556,
              "#d8576b"
             ],
             [
              0.6666666666666666,
              "#ed7953"
             ],
             [
              0.7777777777777778,
              "#fb9f3a"
             ],
             [
              0.8888888888888888,
              "#fdca26"
             ],
             [
              1,
              "#f0f921"
             ]
            ],
            "type": "heatmap"
           }
          ],
          "histogram": [
           {
            "marker": {
             "pattern": {
              "fillmode": "overlay",
              "size": 10,
              "solidity": 0.2
             }
            },
            "type": "histogram"
           }
          ],
          "histogram2d": [
           {
            "colorbar": {
             "outlinewidth": 0,
             "ticks": ""
            },
            "colorscale": [
             [
              0,
              "#0d0887"
             ],
             [
              0.1111111111111111,
              "#46039f"
             ],
             [
              0.2222222222222222,
              "#7201a8"
             ],
             [
              0.3333333333333333,
              "#9c179e"
             ],
             [
              0.4444444444444444,
              "#bd3786"
             ],
             [
              0.5555555555555556,
              "#d8576b"
             ],
             [
              0.6666666666666666,
              "#ed7953"
             ],
             [
              0.7777777777777778,
              "#fb9f3a"
             ],
             [
              0.8888888888888888,
              "#fdca26"
             ],
             [
              1,
              "#f0f921"
             ]
            ],
            "type": "histogram2d"
           }
          ],
          "histogram2dcontour": [
           {
            "colorbar": {
             "outlinewidth": 0,
             "ticks": ""
            },
            "colorscale": [
             [
              0,
              "#0d0887"
             ],
             [
              0.1111111111111111,
              "#46039f"
             ],
             [
              0.2222222222222222,
              "#7201a8"
             ],
             [
              0.3333333333333333,
              "#9c179e"
             ],
             [
              0.4444444444444444,
              "#bd3786"
             ],
             [
              0.5555555555555556,
              "#d8576b"
             ],
             [
              0.6666666666666666,
              "#ed7953"
             ],
             [
              0.7777777777777778,
              "#fb9f3a"
             ],
             [
              0.8888888888888888,
              "#fdca26"
             ],
             [
              1,
              "#f0f921"
             ]
            ],
            "type": "histogram2dcontour"
           }
          ],
          "mesh3d": [
           {
            "colorbar": {
             "outlinewidth": 0,
             "ticks": ""
            },
            "type": "mesh3d"
           }
          ],
          "parcoords": [
           {
            "line": {
             "colorbar": {
              "outlinewidth": 0,
              "ticks": ""
             }
            },
            "type": "parcoords"
           }
          ],
          "pie": [
           {
            "automargin": true,
            "type": "pie"
           }
          ],
          "scatter": [
           {
            "fillpattern": {
             "fillmode": "overlay",
             "size": 10,
             "solidity": 0.2
            },
            "type": "scatter"
           }
          ],
          "scatter3d": [
           {
            "line": {
             "colorbar": {
              "outlinewidth": 0,
              "ticks": ""
             }
            },
            "marker": {
             "colorbar": {
              "outlinewidth": 0,
              "ticks": ""
             }
            },
            "type": "scatter3d"
           }
          ],
          "scattercarpet": [
           {
            "marker": {
             "colorbar": {
              "outlinewidth": 0,
              "ticks": ""
             }
            },
            "type": "scattercarpet"
           }
          ],
          "scattergeo": [
           {
            "marker": {
             "colorbar": {
              "outlinewidth": 0,
              "ticks": ""
             }
            },
            "type": "scattergeo"
           }
          ],
          "scattergl": [
           {
            "marker": {
             "colorbar": {
              "outlinewidth": 0,
              "ticks": ""
             }
            },
            "type": "scattergl"
           }
          ],
          "scattermap": [
           {
            "marker": {
             "colorbar": {
              "outlinewidth": 0,
              "ticks": ""
             }
            },
            "type": "scattermap"
           }
          ],
          "scattermapbox": [
           {
            "marker": {
             "colorbar": {
              "outlinewidth": 0,
              "ticks": ""
             }
            },
            "type": "scattermapbox"
           }
          ],
          "scatterpolar": [
           {
            "marker": {
             "colorbar": {
              "outlinewidth": 0,
              "ticks": ""
             }
            },
            "type": "scatterpolar"
           }
          ],
          "scatterpolargl": [
           {
            "marker": {
             "colorbar": {
              "outlinewidth": 0,
              "ticks": ""
             }
            },
            "type": "scatterpolargl"
           }
          ],
          "scatterternary": [
           {
            "marker": {
             "colorbar": {
              "outlinewidth": 0,
              "ticks": ""
             }
            },
            "type": "scatterternary"
           }
          ],
          "surface": [
           {
            "colorbar": {
             "outlinewidth": 0,
             "ticks": ""
            },
            "colorscale": [
             [
              0,
              "#0d0887"
             ],
             [
              0.1111111111111111,
              "#46039f"
             ],
             [
              0.2222222222222222,
              "#7201a8"
             ],
             [
              0.3333333333333333,
              "#9c179e"
             ],
             [
              0.4444444444444444,
              "#bd3786"
             ],
             [
              0.5555555555555556,
              "#d8576b"
             ],
             [
              0.6666666666666666,
              "#ed7953"
             ],
             [
              0.7777777777777778,
              "#fb9f3a"
             ],
             [
              0.8888888888888888,
              "#fdca26"
             ],
             [
              1,
              "#f0f921"
             ]
            ],
            "type": "surface"
           }
          ],
          "table": [
           {
            "cells": {
             "fill": {
              "color": "#EBF0F8"
             },
             "line": {
              "color": "white"
             }
            },
            "header": {
             "fill": {
              "color": "#C8D4E3"
             },
             "line": {
              "color": "white"
             }
            },
            "type": "table"
           }
          ]
         },
         "layout": {
          "annotationdefaults": {
           "arrowcolor": "#2a3f5f",
           "arrowhead": 0,
           "arrowwidth": 1
          },
          "autotypenumbers": "strict",
          "coloraxis": {
           "colorbar": {
            "outlinewidth": 0,
            "ticks": ""
           }
          },
          "colorscale": {
           "diverging": [
            [
             0,
             "#8e0152"
            ],
            [
             0.1,
             "#c51b7d"
            ],
            [
             0.2,
             "#de77ae"
            ],
            [
             0.3,
             "#f1b6da"
            ],
            [
             0.4,
             "#fde0ef"
            ],
            [
             0.5,
             "#f7f7f7"
            ],
            [
             0.6,
             "#e6f5d0"
            ],
            [
             0.7,
             "#b8e186"
            ],
            [
             0.8,
             "#7fbc41"
            ],
            [
             0.9,
             "#4d9221"
            ],
            [
             1,
             "#276419"
            ]
           ],
           "sequential": [
            [
             0,
             "#0d0887"
            ],
            [
             0.1111111111111111,
             "#46039f"
            ],
            [
             0.2222222222222222,
             "#7201a8"
            ],
            [
             0.3333333333333333,
             "#9c179e"
            ],
            [
             0.4444444444444444,
             "#bd3786"
            ],
            [
             0.5555555555555556,
             "#d8576b"
            ],
            [
             0.6666666666666666,
             "#ed7953"
            ],
            [
             0.7777777777777778,
             "#fb9f3a"
            ],
            [
             0.8888888888888888,
             "#fdca26"
            ],
            [
             1,
             "#f0f921"
            ]
           ],
           "sequentialminus": [
            [
             0,
             "#0d0887"
            ],
            [
             0.1111111111111111,
             "#46039f"
            ],
            [
             0.2222222222222222,
             "#7201a8"
            ],
            [
             0.3333333333333333,
             "#9c179e"
            ],
            [
             0.4444444444444444,
             "#bd3786"
            ],
            [
             0.5555555555555556,
             "#d8576b"
            ],
            [
             0.6666666666666666,
             "#ed7953"
            ],
            [
             0.7777777777777778,
             "#fb9f3a"
            ],
            [
             0.8888888888888888,
             "#fdca26"
            ],
            [
             1,
             "#f0f921"
            ]
           ]
          },
          "colorway": [
           "#636efa",
           "#EF553B",
           "#00cc96",
           "#ab63fa",
           "#FFA15A",
           "#19d3f3",
           "#FF6692",
           "#B6E880",
           "#FF97FF",
           "#FECB52"
          ],
          "font": {
           "color": "#2a3f5f"
          },
          "geo": {
           "bgcolor": "white",
           "lakecolor": "white",
           "landcolor": "#E5ECF6",
           "showlakes": true,
           "showland": true,
           "subunitcolor": "white"
          },
          "hoverlabel": {
           "align": "left"
          },
          "hovermode": "closest",
          "mapbox": {
           "style": "light"
          },
          "paper_bgcolor": "white",
          "plot_bgcolor": "#E5ECF6",
          "polar": {
           "angularaxis": {
            "gridcolor": "white",
            "linecolor": "white",
            "ticks": ""
           },
           "bgcolor": "#E5ECF6",
           "radialaxis": {
            "gridcolor": "white",
            "linecolor": "white",
            "ticks": ""
           }
          },
          "scene": {
           "xaxis": {
            "backgroundcolor": "#E5ECF6",
            "gridcolor": "white",
            "gridwidth": 2,
            "linecolor": "white",
            "showbackground": true,
            "ticks": "",
            "zerolinecolor": "white"
           },
           "yaxis": {
            "backgroundcolor": "#E5ECF6",
            "gridcolor": "white",
            "gridwidth": 2,
            "linecolor": "white",
            "showbackground": true,
            "ticks": "",
            "zerolinecolor": "white"
           },
           "zaxis": {
            "backgroundcolor": "#E5ECF6",
            "gridcolor": "white",
            "gridwidth": 2,
            "linecolor": "white",
            "showbackground": true,
            "ticks": "",
            "zerolinecolor": "white"
           }
          },
          "shapedefaults": {
           "line": {
            "color": "#2a3f5f"
           }
          },
          "ternary": {
           "aaxis": {
            "gridcolor": "white",
            "linecolor": "white",
            "ticks": ""
           },
           "baxis": {
            "gridcolor": "white",
            "linecolor": "white",
            "ticks": ""
           },
           "bgcolor": "#E5ECF6",
           "caxis": {
            "gridcolor": "white",
            "linecolor": "white",
            "ticks": ""
           }
          },
          "title": {
           "x": 0.05
          },
          "xaxis": {
           "automargin": true,
           "gridcolor": "white",
           "linecolor": "white",
           "ticks": "",
           "title": {
            "standoff": 15
           },
           "zerolinecolor": "white",
           "zerolinewidth": 2
          },
          "yaxis": {
           "automargin": true,
           "gridcolor": "white",
           "linecolor": "white",
           "ticks": "",
           "title": {
            "standoff": 15
           },
           "zerolinecolor": "white",
           "zerolinewidth": 2
          }
         }
        },
        "title": {
         "text": "Distribución de rentas por hora según estación"
        },
        "xaxis": {
         "anchor": "y",
         "domain": [
          0,
          1
         ],
         "title": {
          "text": "Cantidad de rentas"
         }
        },
        "yaxis": {
         "anchor": "x",
         "domain": [
          0,
          1
         ],
         "title": {
          "text": "count"
         }
        }
       }
      }
     },
     "metadata": {},
     "output_type": "display_data"
    }
   ],
   "source": [
    "# Version plotly\n",
    "\n",
    "\n",
    "season_labels = {\n",
    "    1: 'Invierno',\n",
    "    2: 'Primavera',\n",
    "    3: 'Verano',\n",
    "    4: 'Otoño'\n",
    "}\n",
    "\n",
    "\n",
    "bikes['season_name'] = bikes['season'].map(season_labels)\n",
    "\n",
    "# Crear histograma con plotly express\n",
    "fig = px.histogram(\n",
    "    bikes,\n",
    "    x='cnt',\n",
    "    color='season_name',\n",
    "    nbins=30,\n",
    "    barmode='overlay',  # para que se superpongan\n",
    "    opacity=0.6,         # transparencia para ver la superposición\n",
    "    labels={'cnt': 'Cantidad de rentas', 'season_name': 'Estación'},\n",
    "    title='Distribución de rentas por hora según estación'\n",
    ")\n",
    "\n",
    "fig.show()\n"
   ]
  }
 ],
 "metadata": {
  "kernelspec": {
   "display_name": ".venv",
   "language": "python",
   "name": "python3"
  },
  "language_info": {
   "codemirror_mode": {
    "name": "ipython",
    "version": 3
   },
   "file_extension": ".py",
   "mimetype": "text/x-python",
   "name": "python",
   "nbconvert_exporter": "python",
   "pygments_lexer": "ipython3",
   "version": "3.12.0"
  }
 },
 "nbformat": 4,
 "nbformat_minor": 2
}

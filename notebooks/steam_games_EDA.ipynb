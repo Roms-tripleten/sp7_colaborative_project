{
 "cells": [
  {
   "cell_type": "markdown",
   "metadata": {},
   "source": [
    "# Análisis exploratorio para steam_games\n",
    "## Análisis sugeridos:\n",
    "1.  Relación entre precio y reseñas positivas\n",
    "2. Juegos más populares por cantidad de propietarios\n",
    "3. Distribución de juegos por género\n"
   ]
  },
  {
   "cell_type": "code",
   "execution_count": null,
   "metadata": {},
   "outputs": [],
   "source": [
    "import pandas as pd\n",
    "games = pd.read_csv('../dataset/steam_games.csv')\n",
    "games.head()"
   ]
  }
 ],
 "metadata": {
  "kernelspec": {
   "display_name": "Python 3",
   "language": "python",
   "name": "python3"
  },
  "language_info": {
   "name": "python",
   "version": "3.11"
  }
 },
 "nbformat": 4,
 "nbformat_minor": 2
}
